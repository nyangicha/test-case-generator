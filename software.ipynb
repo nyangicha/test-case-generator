{
 "cells": [
  {
   "cell_type": "markdown",
   "metadata": {},
   "source": [
    "Setting Up the Knowledge Graph (Neo4j)"
   ]
  },
  {
   "cell_type": "code",
   "execution_count": null,
   "metadata": {},
   "outputs": [],
   "source": [
    "from neo4j import GraphDatabase\n",
    "\n",
    "class Neo4jConnector:\n",
    "    def __init__(self, uri, user, password):\n",
    "        self.driver = GraphDatabase.driver(uri, auth=(user, password))\n",
    "    \n",
    "    def create_node(self, label, properties):\n",
    "        with self.driver.session() as session:\n",
    "            session.run(f\"CREATE (n:{label} $props)\", props=properties)\n",
    "    \n",
    "    def create_relationship(self, from_id, to_id, rel_type):\n",
    "        with self.driver.session() as session:\n",
    "            session.run(\n",
    "                \"MATCH (a), (b) WHERE a.id = $from_id AND b.id = $to_id \"\n",
    "                f\"CREATE (a)-[:{rel_type}]->(b)\",\n",
    "                from_id=from_id, to_id=to_id\n",
    "            )\n",
    "\n",
    "# Initialize connection\n",
    "neo4j = Neo4jConnector(\"bolt://localhost:7687\", \"collins\", \"*******\")"
   ]
  },
  {
   "cell_type": "markdown",
   "metadata": {},
   "source": [
    "Generating Test Cases Using OpenAI API"
   ]
  },
  {
   "cell_type": "code",
   "execution_count": null,
   "metadata": {},
   "outputs": [],
   "source": [
    "import openai\n",
    "\n",
    "def generate_test_case(requirement):\n",
    "    response = openai.ChatCompletion.create(\n",
    "        model=\"gpt-3.5-turbo\",\n",
    "        messages=[\n",
    "            {\"role\": \"system\", \"content\": \"Generate test cases for the software requirement.\"},\n",
    "            {\"role\": \"user\", \"content\": f\"Requirement: {requirement}\"}\n",
    "        ]\n",
    "    )\n",
    "    return response.choices[0].message['content']\n",
    "\n",
    "# Example usage\n",
    "requirement = \"User login must authenticate via OAuth2.\"\n",
    "test_case = generate_test_case(requirement)\n",
    "print(test_case)"
   ]
  },
  {
   "cell_type": "markdown",
   "metadata": {},
   "source": [
    "Coverage validation Using Knowledge Graph"
   ]
  },
  {
   "cell_type": "code",
   "execution_count": null,
   "metadata": {},
   "outputs": [],
   "source": [
    "def validate_coverage(test_case_id, requirement_id):\n",
    "    with neo4j.driver.session() as session:\n",
    "        result = session.run(\n",
    "            \"MATCH (t:TestCase {id: $test_case_id})-[:VALIDATES]->(r:Requirement {id: $requirement_id}) \"\n",
    "            \"RETURN t IS NOT NULL AS is_valid\",\n",
    "            test_case_id=test_case_id, requirement_id=requirement_id\n",
    "        )\n",
    "        return result.single()[\"is_valid\"]\n",
    "\n",
    "# Example validation\n",
    "is_valid = validate_coverage(\"TC1\", \"REQ1\")\n",
    "print(f\"Test case covers requirement: {is_valid}\")"
   ]
  },
  {
   "cell_type": "markdown",
   "metadata": {},
   "source": [
    "Workflow Integration"
   ]
  },
  {
   "cell_type": "code",
   "execution_count": null,
   "metadata": {},
   "outputs": [],
   "source": [
    "def end_to_end_workflow(requirement_desc, req_id):\n",
    "    # Generate test case\n",
    "    test_case = generate_test_case(requirement_desc)\n",
    "    # Store in knowledge graph\n",
    "    neo4j.create_node(\"TestCase\", {\"id\": \"TC1\", \"steps\": test_case})\n",
    "    neo4j.create_relationship(\"TC1\", req_id, \"VALIDATES\")\n",
    "    # Validate\n",
    "    return validate_coverage(\"TC1\", req_id)\n",
    "\n",
    "# Example\n",
    "result = end_to_end_workflow(\"Payment gateway must support HTTPS.\", \"REQ2\")\n",
    "print(f\"Coverage valid: {result}\")"
   ]
  }
 ],
 "metadata": {
  "kernelspec": {
   "display_name": "myVenv",
   "language": "python",
   "name": "python3"
  },
  "language_info": {
   "codemirror_mode": {
    "name": "ipython",
    "version": 3
   },
   "file_extension": ".py",
   "mimetype": "text/x-python",
   "name": "python",
   "nbconvert_exporter": "python",
   "pygments_lexer": "ipython3",
   "version": "3.13.0"
  }
 },
 "nbformat": 4,
 "nbformat_minor": 2
}
